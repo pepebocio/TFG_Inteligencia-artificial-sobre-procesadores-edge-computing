{
  "cells": [
    {
      "cell_type": "markdown",
      "metadata": {
        "id": "view-in-github",
        "colab_type": "text"
      },
      "source": [
        "<a href=\"https://colab.research.google.com/github/pepebocio/TFG_Inteligencia-artificial-sobre-procesadores-edge-computing/blob/Auxiliares/RedDedos.ipynb\" target=\"_parent\"><img src=\"https://colab.research.google.com/assets/colab-badge.svg\" alt=\"Open In Colab\"/></a>"
      ]
    },
    {
      "cell_type": "code",
      "execution_count": null,
      "metadata": {
        "id": "ubRhPMYxIXlN"
      },
      "outputs": [],
      "source": []
    },
    {
      "cell_type": "code",
      "execution_count": null,
      "metadata": {
        "id": "GHO75po1Bql8"
      },
      "outputs": [],
      "source": [
        "import csv\n",
        "import datetime\n",
        "import matplotlib.pyplot as plt\n",
        "import numpy as np\n",
        "import os\n",
        "import pandas as pd\n",
        "import seaborn as sns\n",
        "import sklearn.metrics\n",
        "import tensorflow as tf\n",
        "\n",
        "from numpy import mean\n",
        "from numpy import std\n",
        "from sklearn.model_selection import train_test_split\n",
        "from sklearn.preprocessing import LabelEncoder\n",
        "from tensorflow.keras import activations\n",
        "from tensorflow.keras import layers\n",
        "from tensorflow.keras.utils import to_categorical"
      ]
    },
    {
      "cell_type": "code",
      "execution_count": null,
      "metadata": {
        "id": "b42cmmELDFoT"
      },
      "outputs": [],
      "source": [
        "BATCH_SIZE = 64 ##\n",
        "NUM_EPOCHS = 100 ##tiradas de entrenamiento\n",
        "OUTPUT_DATASET_FILE = \"modelo.csv\"\n",
        "TFL_MODEL_FILE = \"modelo.tflite\"\n",
        "TFL_MODEL_HEADER_FILE = \"modelo.h\"\n",
        "TF_MODEL = \"modelo\""
      ]
    },
    {
      "cell_type": "code",
      "execution_count": null,
      "metadata": {
        "id": "fwb_aUop7bfS",
        "colab": {
          "base_uri": "https://localhost:8080/",
          "height": 211
        },
        "outputId": "f96a6788-9f71-4fc7-f635-1c943529bcc3"
      },
      "outputs": [
        {
          "output_type": "error",
          "ename": "FileNotFoundError",
          "evalue": "[Errno 2] No such file or directory: 'DataSetNormalizado(1+2+3).txt'",
          "traceback": [
            "\u001b[0;31m---------------------------------------------------------------------------\u001b[0m",
            "\u001b[0;31mFileNotFoundError\u001b[0m                         Traceback (most recent call last)",
            "\u001b[0;32m<ipython-input-3-18d66b8d7180>\u001b[0m in \u001b[0;36m<cell line: 3>\u001b[0;34m()\u001b[0m\n\u001b[1;32m      1\u001b[0m \u001b[0;31m# Abrir el archivo en modo lectura\u001b[0m\u001b[0;34m\u001b[0m\u001b[0;34m\u001b[0m\u001b[0m\n\u001b[1;32m      2\u001b[0m \u001b[0mdatos\u001b[0m \u001b[0;34m=\u001b[0m \u001b[0;34m[\u001b[0m\u001b[0;34m]\u001b[0m\u001b[0;34m\u001b[0m\u001b[0;34m\u001b[0m\u001b[0m\n\u001b[0;32m----> 3\u001b[0;31m \u001b[0;32mwith\u001b[0m \u001b[0mopen\u001b[0m\u001b[0;34m(\u001b[0m\u001b[0;34m'DataSetNormalizado(1+2+3).txt'\u001b[0m\u001b[0;34m,\u001b[0m \u001b[0;34m'r'\u001b[0m\u001b[0;34m)\u001b[0m \u001b[0;32mas\u001b[0m \u001b[0marchivo\u001b[0m\u001b[0;34m:\u001b[0m\u001b[0;34m\u001b[0m\u001b[0;34m\u001b[0m\u001b[0m\n\u001b[0m\u001b[1;32m      4\u001b[0m     \u001b[0;31m# Leer cada línea del archivo\u001b[0m\u001b[0;34m\u001b[0m\u001b[0;34m\u001b[0m\u001b[0m\n\u001b[1;32m      5\u001b[0m     \u001b[0;32mfor\u001b[0m \u001b[0mlinea\u001b[0m \u001b[0;32min\u001b[0m \u001b[0marchivo\u001b[0m\u001b[0;34m:\u001b[0m\u001b[0;34m\u001b[0m\u001b[0;34m\u001b[0m\u001b[0m\n",
            "\u001b[0;31mFileNotFoundError\u001b[0m: [Errno 2] No such file or directory: 'DataSetNormalizado(1+2+3).txt'"
          ]
        }
      ],
      "source": [
        "# Abrir el archivo en modo lectura\n",
        "datos = []\n",
        "with open('DataSetNormalizado(1+2+3).txt', 'r') as archivo:\n",
        "    # Leer cada línea del archivo\n",
        "    for linea in archivo:\n",
        "        # Dividir la línea en valores separados por espacios en blanco\n",
        "        valores = linea.split()\n",
        "        # Convertir los valores a enteros y agregarlos a la lista de datos\n",
        "        datos.append([float(valor) for valor in valores])"
      ]
    },
    {
      "cell_type": "code",
      "execution_count": null,
      "metadata": {
        "id": "3dlG_OYAKIJ8"
      },
      "outputs": [],
      "source": [
        "##creamos una variable dataset que guarda 3 columnas de datos con nombres y con x, y, etiquetas\n",
        "\n",
        "csv_header = [\"dedo1\",\"dedo2\",\"dedo3\",\"dedo4\",\"out\"]\n",
        "\n",
        "df_dataset = pd.DataFrame(datos, columns = csv_header)\n"
      ]
    },
    {
      "cell_type": "code",
      "execution_count": null,
      "metadata": {
        "id": "SmQjujnTMHl2"
      },
      "outputs": [],
      "source": [
        "##guardamos los nombres de las entradas y las salidas por separado\n",
        "f_names = df_dataset.columns.values[0:4]\n",
        "l_name  = df_dataset.columns.values[4:5]\n",
        "##los usamos para guardar en X las entradas y en Y las salidas\n",
        "Dedos = df_dataset[f_names]\n",
        "Out = df_dataset[l_name]\n",
        "\n",
        "onehot=tf.one_hot(Out,10)\n",
        "# Convertir las etiquetas de salida a one hot encoding\n",
        "num_classes = 10  # Número de clases posibles\n",
        "y_one_hot = np.zeros((len(Out), num_classes))\n",
        "y_one_hot[np.arange(len(Out)), Out.values.flatten().astype(int)] = 1\n",
        "\n",
        "##separamos los datos para sus distintas funciones\n",
        "# Split 1 (85% vs 15%)\n",
        "x_train, x_validate_test, y_train, y_validate_test = train_test_split(Dedos, y_one_hot, test_size=0.2, random_state = 12)\n",
        "# Split 2 (50% vs 50%)\n",
        "x_test, x_validate, y_test, y_validate = train_test_split(x_validate_test, y_validate_test, test_size=0.50, random_state = 2)"
      ]
    },
    {
      "cell_type": "code",
      "execution_count": null,
      "metadata": {
        "id": "-mGujP6qB8kF"
      },
      "outputs": [],
      "source": [
        "unos_por_indice = np.sum(y_validate, axis=0)\n",
        "\n",
        "# Crear el histograma\n",
        "plt.bar(np.arange(10), unos_por_indice)\n",
        "plt.xlabel('Índice')\n",
        "plt.ylabel('Número de unos')\n",
        "plt.title('Histograma distribucion de los datos de validacion')\n",
        "plt.show()\n",
        "\n",
        "unos_por_indice = np.sum(y_test, axis=0)\n",
        "\n",
        "plt.bar(np.arange(10), unos_por_indice)\n",
        "plt.xlabel('Índice')\n",
        "plt.ylabel('Número de unos')\n",
        "plt.title('Histograma distribucion de los datos de validacion')\n",
        "plt.show()"
      ]
    },
    {
      "cell_type": "code",
      "execution_count": null,
      "metadata": {
        "id": "OPm67Jb8rWOZ"
      },
      "outputs": [],
      "source": [
        "onehot=tf.one_hot(Out,10)\n",
        "type(x_train)"
      ]
    },
    {
      "cell_type": "code",
      "execution_count": null,
      "metadata": {
        "id": "yf9SlLTfQ_k4"
      },
      "outputs": [],
      "source": [
        "##definimos las capas del modelo\n",
        "model = tf.keras.Sequential()\n",
        "model.add(layers.Dense(40, activation='relu', input_shape=(len(f_names),)))\n",
        "model.add(layers.Dropout(0.1))\n",
        "model.add(layers.Dense(20, activation='relu'))\n",
        "model.add(layers.Dropout(0.1))\n",
        "model.add(layers.Dense(10, activation='relu'))\n",
        "\n",
        "model.summary()"
      ]
    },
    {
      "cell_type": "code",
      "execution_count": null,
      "metadata": {
        "id": "zYxs_7eIik8G"
      },
      "outputs": [],
      "source": [
        "model.compile(loss='binary_crossentropy', optimizer='adam', metrics=['accuracy'])\n"
      ]
    },
    {
      "cell_type": "code",
      "execution_count": null,
      "metadata": {
        "id": "qk2VNo1Mjmuj"
      },
      "outputs": [],
      "source": [
        "type(x_train)"
      ]
    },
    {
      "cell_type": "code",
      "execution_count": null,
      "metadata": {
        "id": "uuy1VbxXc_RF"
      },
      "outputs": [],
      "source": [
        "history = model.fit(x_train, y_train, epochs=NUM_EPOCHS, batch_size=BATCH_SIZE, validation_data=(x_validate, y_validate))"
      ]
    },
    {
      "cell_type": "code",
      "execution_count": null,
      "metadata": {
        "id": "gytIon0nh6l9"
      },
      "outputs": [],
      "source": [
        "loss_train = history.history['loss']\n",
        "loss_val   = history.history['val_loss']\n",
        "acc_train  = history.history['accuracy']\n",
        "acc_val    = history.history['val_accuracy']\n",
        "epochs     = range(1, NUM_EPOCHS + 1)\n",
        "\n",
        "def plot_train_val_history(x, y_train, y_val, type_txt):\n",
        "  plt.figure(figsize = (10,7))\n",
        "  plt.plot(x, y_train, 'g', label='Training'+type_txt)\n",
        "  plt.plot(x, y_val, 'b', label='Validation'+type_txt)\n",
        "  plt.title('Training and Validation'+type_txt)\n",
        "  plt.xlabel('Epochs')\n",
        "  plt.ylabel(type_txt)\n",
        "  plt.legend()\n",
        "  plt.show()\n",
        "\n",
        "plot_train_val_history(epochs, loss_train, loss_val, \"Loss\")\n",
        "plot_train_val_history(epochs, acc_train, acc_val, \"Accuracy\")"
      ]
    },
    {
      "cell_type": "markdown",
      "metadata": {
        "id": "CW4R1gpEEQR5"
      },
      "source": [
        "Guardar el modelo"
      ]
    },
    {
      "cell_type": "code",
      "execution_count": null,
      "metadata": {
        "id": "teKZb7R8EPpx"
      },
      "outputs": [],
      "source": [
        "model.save(TF_MODEL)"
      ]
    },
    {
      "cell_type": "code",
      "execution_count": null,
      "metadata": {
        "id": "met_Ko2kFrgW"
      },
      "outputs": [],
      "source": [
        "y_test_pred = model.predict(x_test)\n",
        "\n",
        "y_test_pred = (y_test_pred > 0.5).astype(\"int32\")\n",
        "\n",
        "out= np.argmax(y_test, axis=1)\n",
        "##out= np.split(out,len(out))\n",
        "\n",
        "\n",
        "out_pred = np.argmax(y_test_pred, axis=1)\n",
        "##out_pred= np.split(out_pred,len(out_pred))\n",
        "\n",
        "cm = sklearn.metrics.confusion_matrix(out, out_pred)\n",
        "\n",
        "index_names  = [\"Actual 0\", \"Actual 1\", \"Actual 2\", \"Actual 3\", \"Actual 4\", \"Actual 5\", \"Actual 6\", \"Actual 7\", \"Actual 8\", \"Actual 9\"]\n",
        "column_names = [\"Predicted 0\", \"Predicted 1\", \"Predicted 2\", \"Predicted 3\", \"Predicted 4\", \"Predicted 5\", \"Predicted 6\", \"Predicted 7\", \"Predicted 8\", \"Predicted 9\"]\n",
        "\n",
        "df_cm = pd.DataFrame(cm, index = index_names, columns = column_names)\n",
        "\n",
        "plt.figure(figsize = (10,7))\n",
        "sns.heatmap(df_cm, annot=True, fmt='d', cmap=\"YlOrBr\")\n",
        "plt.figure(figsize = (10,7))"
      ]
    },
    {
      "cell_type": "markdown",
      "source": [
        "Comprobamos que tal funciona (comparar con las graficas del dataset)"
      ],
      "metadata": {
        "id": "PaowTTtMkelX"
      }
    },
    {
      "cell_type": "code",
      "source": [
        "muestras=20\n",
        "\n",
        "simulacion=np.zeros((muestras**4,5))\n",
        "\n",
        "for i in range(muestras**4):\n",
        "  simulacion[i,0]=(i%muestras)/muestras\n",
        "  simulacion[i,1]=(i//muestras%muestras)/muestras\n",
        "  simulacion[i,2]=(i//muestras**2%muestras)/muestras\n",
        "  simulacion[i,3]=(i//muestras**3%muestras)/muestras\n",
        "simulacion[:,4]=np.argmax(model.predict(simulacion[:,0:4]),axis=1)\n",
        "simulacion= sorted(simulacion, key=lambda x: x[4])"
      ],
      "metadata": {
        "id": "XDWqFdDkkeTQ"
      },
      "execution_count": null,
      "outputs": []
    },
    {
      "cell_type": "code",
      "source": [
        "grupos = [dato[4] for dato in simulacion]\n",
        "posiciones_dedo1 = [dato[0] for dato in simulacion]\n",
        "posiciones_dedo2 = [dato[1] for dato in simulacion]\n",
        "posiciones_dedo3 = [dato[2] for dato in simulacion]\n",
        "posiciones_dedo4 = [dato[3] for dato in simulacion]\n",
        "\n",
        "# Suponiendo que tienes los datos ordenados en una lista llamada datos_ordenados\n",
        "# Extraer las posiciones de los dedos para cada posición y agruparlas por valor en la primera columna\n",
        "posiciones_dedo1_por_grupo = {}\n",
        "posiciones_dedo2_por_grupo = {}\n",
        "posiciones_dedo3_por_grupo = {}\n",
        "posiciones_dedo4_por_grupo = {}\n",
        "\n",
        "for dato in simulacion:\n",
        "    grupo = dato[4]\n",
        "    pos_dedo1 = dato[0]\n",
        "    pos_dedo2 = dato[1]\n",
        "    pos_dedo3 = dato[2]\n",
        "    pos_dedo4 = dato[3]\n",
        "\n",
        "    if grupo not in posiciones_dedo1_por_grupo:\n",
        "        posiciones_dedo1_por_grupo[grupo] = []\n",
        "        posiciones_dedo2_por_grupo[grupo] = []\n",
        "        posiciones_dedo3_por_grupo[grupo] = []\n",
        "        posiciones_dedo4_por_grupo[grupo] = []\n",
        "\n",
        "    posiciones_dedo1_por_grupo[grupo].append(pos_dedo1)\n",
        "    posiciones_dedo2_por_grupo[grupo].append(pos_dedo2)\n",
        "    posiciones_dedo3_por_grupo[grupo].append(pos_dedo3)\n",
        "    posiciones_dedo4_por_grupo[grupo].append(pos_dedo4)\n",
        "\n",
        "# Graficar diagrama de caja para cada posición de los dedos en gráficos separados\n",
        "plt.figure(figsize=(12, 8))\n",
        "\n",
        "plt.subplot(221)\n",
        "plt.boxplot(posiciones_dedo1_por_grupo.values(), labels=posiciones_dedo1_por_grupo.keys())\n",
        "plt.title('Dedo 1')\n",
        "plt.xlabel('Posición')\n",
        "plt.ylabel('Medida del ADC')\n",
        "\n",
        "plt.subplot(222)\n",
        "plt.boxplot(posiciones_dedo2_por_grupo.values(), labels=posiciones_dedo2_por_grupo.keys())\n",
        "plt.title('Dedo 2')\n",
        "plt.xlabel('Posición')\n",
        "plt.ylabel('Medida del ADC')\n",
        "\n",
        "\n",
        "plt.subplot(223)\n",
        "plt.boxplot(posiciones_dedo3_por_grupo.values(), labels=posiciones_dedo3_por_grupo.keys())\n",
        "plt.title('Dedo 3')\n",
        "plt.xlabel('Posición')\n",
        "plt.ylabel('Medida del ADC')\n",
        "\n",
        "plt.subplot(224)\n",
        "plt.boxplot(posiciones_dedo4_por_grupo.values(), labels=posiciones_dedo4_por_grupo.keys())\n",
        "plt.title('Dedo 4')\n",
        "plt.xlabel('Posición')\n",
        "plt.ylabel('Medida del ADC')\n",
        "\n",
        "\n",
        "plt.tight_layout()\n",
        "plt.show()"
      ],
      "metadata": {
        "id": "GLIJfMubsRjQ"
      },
      "execution_count": null,
      "outputs": []
    },
    {
      "cell_type": "code",
      "source": [
        "datos= sorted(datos, key=lambda x: x[4])\n",
        "[fila[:4] for fila in datos]\n",
        "resultados = np.argmax(model.predict([fila[:4] for fila in datos]), axis=1)\n",
        "\n",
        "# Asignar los resultados a la quinta columna de datos\n",
        "for i in range(len(datos)):\n",
        "    datos[i][-1] = resultados[i]\n",
        "datos\n"
      ],
      "metadata": {
        "id": "NLj32r3I2OJn"
      },
      "execution_count": null,
      "outputs": []
    },
    {
      "cell_type": "code",
      "source": [
        "grupos = [dato[4] for dato in datos]\n",
        "posiciones_dedo1 = [dato[0] for dato in datos]\n",
        "posiciones_dedo2 = [dato[1] for dato in datos]\n",
        "posiciones_dedo3 = [dato[2] for dato in datos]\n",
        "posiciones_dedo4 = [dato[3] for dato in datos]\n",
        "\n",
        "# Suponiendo que tienes los datos ordenados en una lista llamada datos_ordenados\n",
        "# Extraer las posiciones de los dedos para cada posición y agruparlas por valor en la primera columna\n",
        "posiciones_dedo1_por_grupo = {}\n",
        "posiciones_dedo2_por_grupo = {}\n",
        "posiciones_dedo3_por_grupo = {}\n",
        "posiciones_dedo4_por_grupo = {}\n",
        "\n",
        "for dato in datos:\n",
        "    grupo = dato[4]\n",
        "    pos_dedo1 = dato[0]\n",
        "    pos_dedo2 = dato[1]\n",
        "    pos_dedo3 = dato[2]\n",
        "    pos_dedo4 = dato[3]\n",
        "\n",
        "    if grupo not in posiciones_dedo1_por_grupo:\n",
        "        posiciones_dedo1_por_grupo[grupo] = []\n",
        "        posiciones_dedo2_por_grupo[grupo] = []\n",
        "        posiciones_dedo3_por_grupo[grupo] = []\n",
        "        posiciones_dedo4_por_grupo[grupo] = []\n",
        "\n",
        "    posiciones_dedo1_por_grupo[grupo].append(pos_dedo1)\n",
        "    posiciones_dedo2_por_grupo[grupo].append(pos_dedo2)\n",
        "    posiciones_dedo3_por_grupo[grupo].append(pos_dedo3)\n",
        "    posiciones_dedo4_por_grupo[grupo].append(pos_dedo4)\n",
        "\n",
        "# Graficar diagrama de caja para cada posición de los dedos en gráficos separados\n",
        "plt.figure(figsize=(12, 8))\n",
        "\n",
        "plt.subplot(221)\n",
        "plt.boxplot(posiciones_dedo1_por_grupo.values(), labels=posiciones_dedo1_por_grupo.keys())\n",
        "plt.title('Dedo 1')\n",
        "plt.xlabel('Posición')\n",
        "plt.ylabel('Medida del ADC')\n",
        "\n",
        "plt.subplot(222)\n",
        "plt.boxplot(posiciones_dedo2_por_grupo.values(), labels=posiciones_dedo2_por_grupo.keys())\n",
        "plt.title('Dedo 2')\n",
        "plt.xlabel('Posición')\n",
        "plt.ylabel('Medida del ADC')\n",
        "\n",
        "\n",
        "plt.subplot(223)\n",
        "plt.boxplot(posiciones_dedo3_por_grupo.values(), labels=posiciones_dedo3_por_grupo.keys())\n",
        "plt.title('Dedo 3')\n",
        "plt.xlabel('Posición')\n",
        "plt.ylabel('Medida del ADC')\n",
        "\n",
        "plt.subplot(224)\n",
        "plt.boxplot(posiciones_dedo4_por_grupo.values(), labels=posiciones_dedo4_por_grupo.keys())\n",
        "plt.title('Dedo 4')\n",
        "plt.xlabel('Posición')\n",
        "plt.ylabel('Medida del ADC')\n",
        "\n",
        "\n",
        "plt.tight_layout()\n",
        "plt.show()"
      ],
      "metadata": {
        "id": "09p7p87L5IfC"
      },
      "execution_count": null,
      "outputs": []
    },
    {
      "cell_type": "code",
      "execution_count": null,
      "metadata": {
        "id": "liiCUMPoErd8"
      },
      "outputs": [],
      "source": [
        "def representative_data_gen():\n",
        "  for i_value in tf.data.Dataset.from_tensor_slices(x_test).batch(1).take(50):\n",
        "    i_value_f32 = tf.dtypes.cast(i_value, tf.float32)\n",
        "    yield [i_value_f32]\n",
        "\n",
        "\n",
        "converter = tf.lite.TFLiteConverter.from_saved_model(TF_MODEL)\n",
        "\n",
        "\n",
        "converter.representative_dataset = tf.lite.RepresentativeDataset(representative_data_gen)\n",
        "converter.optimizations = [tf.lite.Optimize.DEFAULT]\n",
        "converter.target_spec.supported_ops = [tf.lite.OpsSet.TFLITE_BUILTINS_INT8]\n",
        "converter.inference_input_type = tf.int8\n",
        "converter.inference_output_type = tf.int8\n",
        "\n",
        "\n",
        "tflite_model_quant = converter.convert()\n",
        "open(TFL_MODEL_FILE, \"wb\").write(tflite_model_quant)"
      ]
    },
    {
      "cell_type": "code",
      "execution_count": null,
      "metadata": {
        "id": "j5j65Zy6E39v"
      },
      "outputs": [],
      "source": [
        "!apt-get update && apt-get -qq install xxd\n",
        "!xxd -i modelo.tflite > model.h\n",
        "!cat model.h"
      ]
    },
    {
      "cell_type": "markdown",
      "metadata": {
        "id": "PlzvCDnwEOO5"
      },
      "source": [
        "Pruebas del modelo"
      ]
    },
    {
      "cell_type": "code",
      "execution_count": null,
      "metadata": {
        "id": "RTLxpOq_qaPi"
      },
      "outputs": [],
      "source": [
        "x=np.array([[0,1,1,1]])\n",
        "model.predict(x)\n",
        "np.argmax(model.predict(x), axis=1)"
      ]
    },
    {
      "cell_type": "code",
      "execution_count": null,
      "metadata": {
        "id": "GLw5T2PMjB_2"
      },
      "outputs": [],
      "source": [
        "resultado=model.predict(x_test)\n",
        "sum=np.zeros(len(resultado))\n",
        "for i in range(len(resultado)):\n",
        "  sum[i]=np.sum(resultado[i])\n",
        "# Obtener el índice del valor máximo en cada fila\n",
        "indices_maximos = np.argmax(resultado, axis=1)\n",
        "\n",
        "# Crear una matriz con la misma forma que 'predicciones' pero con 0 en todas partes excepto en los índices máximos\n",
        "predicciones_con_maximos = np.zeros_like(resultado)\n",
        "predicciones_con_maximos[np.arange(len(resultado)), indices_maximos] = 1\n",
        "\n",
        "##indices_maximos\n",
        "resultado"
      ]
    },
    {
      "cell_type": "code",
      "execution_count": null,
      "metadata": {
        "id": "y-cxGjhVBbQJ"
      },
      "outputs": [],
      "source": [
        "indices_maximos"
      ]
    },
    {
      "cell_type": "code",
      "execution_count": null,
      "metadata": {
        "id": "NjHo-qZy5HY_"
      },
      "outputs": [],
      "source": [
        "np.argmax(y_test, axis=1)"
      ]
    },
    {
      "cell_type": "code",
      "source": [
        "x_test\n"
      ],
      "metadata": {
        "id": "mc8gvo4EurhU"
      },
      "execution_count": null,
      "outputs": []
    }
  ],
  "metadata": {
    "accelerator": "GPU",
    "colab": {
      "gpuType": "T4",
      "provenance": [],
      "authorship_tag": "ABX9TyPRtmVuthfUFfAft5YEjmDI",
      "include_colab_link": true
    },
    "kernelspec": {
      "display_name": "Python 3",
      "name": "python3"
    },
    "language_info": {
      "name": "python"
    }
  },
  "nbformat": 4,
  "nbformat_minor": 0
}
